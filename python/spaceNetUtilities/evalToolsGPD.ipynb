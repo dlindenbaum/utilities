{
 "cells": [
  {
   "cell_type": "code",
   "execution_count": 1,
   "metadata": {
    "collapsed": true
   },
   "outputs": [],
   "source": [
    "import sys\n",
    "sys.path.extend(['/Users/dlindenbaum/cosmiQGit/spaceNetUtilities_DaveL/python'])\n",
    "#from spaceNetUtilities import evalToolsGPD as eT\n",
    "#from spaceNetUtilities import geoToolsGPD as gT"
   ]
  },
  {
   "cell_type": "code",
   "execution_count": 2,
   "metadata": {
    "collapsed": true
   },
   "outputs": [
    {
     "name": "stderr",
     "output_type": "stream",
     "text": [
      "WARNING:Fiona:PROJ data files not located, PROJ_LIB not set\n"
     ]
    }
   ],
   "source": [
    "import geopandas as gpd\n",
    "#srcTruthVector = '/Users/dlindenbaum/dataStorage/spaceNetPrivate_Truth/AOI_2_Vegas/srcData/vectorData/Vegas_Footprints.shp'\n",
    "srcTestVector1  = '/Users/dlindenbaum/dataStorage/xd_Vegas/15OCT22183656-S2AS_R1C2-056155973080_01_P001.shp'\n",
    "srcTestVector2 = '/Users/dlindenbaum/dataStorage/xd_Vegas/15OCT22183656-S2AS_R1C3-056155973080_01_P001.shp'\n",
    "srcTileIndex = '/Users/dlindenbaum/dataStorage/xd_Vegas/mul-pansharpen.shp'"
   ]
  },
  {
   "cell_type": "code",
   "execution_count": 3,
   "metadata": {},
   "outputs": [
    {
     "name": "stderr",
     "output_type": "stream",
     "text": [
      "WARNING:Fiona:PROJ data files not located, PROJ_LIB not set\n"
     ]
    },
    {
     "name": "stderr",
     "output_type": "stream",
     "text": [
      "WARNING:Fiona:PROJ data files not located, PROJ_LIB not set\n"
     ]
    },
    {
     "name": "stderr",
     "output_type": "stream",
     "text": [
      "WARNING:Fiona:PROJ data files not located, PROJ_LIB not set\n"
     ]
    }
   ],
   "source": [
    "#truthDF = gpd.read_file(srcTruthVector)\n",
    "testDF1 = gpd.read_file(srcTestVector1)\n",
    "testDF2 = gpd.read_file(srcTestVector2)\n",
    "srcTileDF = gpd.read_file(srcTileIndex)"
   ]
  },
  {
   "cell_type": "code",
   "execution_count": 4,
   "metadata": {},
   "outputs": [],
   "source": [
    "testIndex1 = testDF1.sindex\n",
    "testIndex2 = testDF2.sindex"
   ]
  },
  {
   "cell_type": "code",
   "execution_count": 38,
   "metadata": {
    "collapsed": false
   },
   "outputs": [],
   "source": [
    "srcTindex1 = srcTileDF.loc[srcTileDF.contains(testDF1.geometry.values[0].centroid)]\n",
    "srcTindex2 = srcTileDF.loc[srcTileDF.contains(testDF2.geometry.values[0].centroid)]"
   ]
  },
  {
   "cell_type": "code",
   "execution_count": 6,
   "metadata": {},
   "outputs": [],
   "source": [
    "testDF1['location'] = srcTindex1['location'].values[0]\n",
    "testDF2['location'] = srcTindex2['location'].values[0]\n",
    "testDF1['index1'] = testDF1.index\n",
    "testDF2['index2'] = testDF2.index"
   ]
  },
  {
   "cell_type": "code",
   "execution_count": 7,
   "metadata": {},
   "outputs": [
    {
     "name": "stdout",
     "output_type": "stream",
     "text": [
      "Edge\ntest1 Length of Matchs = 0\ntest2 Length of Matchs = 0\nEdge\ntest1 Length of Matchs = 0\ntest2 Length of Matchs = 36\nEdge\ntest1 Length of Matchs = 0\ntest2 Length of Matchs = 45\nEdge\ntest1 Length of Matchs = 41\ntest2 Length of Matchs = 29\n"
     ]
    }
   ],
   "source": [
    "from shapely.geometry import LineString\n",
    "coordsList = list(srcTindex2.geometry.values[0].exterior.coords)\n",
    "lineStringList = []\n",
    "for idx in range(1, len(coordsList)):\n",
    "    lineStringList.append(LineString([coordsList[idx-1], coordsList[idx]]))\n",
    "\n",
    "pixelDimension = 0.0000027\n",
    "numPixel = 5\n",
    "\n",
    "for lineboundary in lineStringList:\n",
    "    print(\"Edge\")\n",
    "    print('test1 Length of Matchs = {}'.format(len(list(testIndex1.intersection(lineboundary.buffer(numPixel*pixelDimension).bounds)))))\n",
    "    print('test2 Length of Matchs = {}'.format(len(list(testIndex2.intersection(lineboundary.buffer(numPixel*pixelDimension).bounds)))))"
   ]
  },
  {
   "cell_type": "code",
   "execution_count": 8,
   "metadata": {},
   "outputs": [
    {
     "data": {
      "text/plain": [
       "'LINESTRING (-115.2632808 36.24184080000634, -115.2632808 36.2639592)'"
      ]
     },
     "execution_count": 8,
     "metadata": {},
     "output_type": "execute_result"
    }
   ],
   "source": [
    "lineStringList[3].wkt"
   ]
  },
  {
   "cell_type": "code",
   "execution_count": 25,
   "metadata": {},
   "outputs": [],
   "source": [
    "lineboundary = lineStringList[3]\n",
    "numPixel = 2\n",
    "testDF1Intersection = testDF1.iloc[list(testIndex1.intersection(lineboundary.buffer(numPixel*pixelDimension).bounds))]\n",
    "testDF2Intersection = testDF2.iloc[list(testIndex2.intersection(lineboundary.buffer(numPixel*pixelDimension).bounds))]\n",
    "testDF1Intersection.geometry = testDF1Intersection.buffer(numPixel*pixelDimension)\n",
    "testDF2Intersection.geometry = testDF2Intersection.buffer(numPixel*pixelDimension)"
   ]
  },
  {
   "cell_type": "code",
   "execution_count": 26,
   "metadata": {},
   "outputs": [],
   "source": [
    "res_union = gpd.overlay(testDF1Intersection, testDF2Intersection, how='union')\n",
    "res_intersection = gpd.overlay(testDF1Intersection, testDF2Intersection, how='intersection')"
   ]
  },
  {
   "cell_type": "code",
   "execution_count": 27,
   "metadata": {},
   "outputs": [
    {
     "name": "stdout",
     "output_type": "stream",
     "text": [
      "union shape (23, 5)\n"
     ]
    },
    {
     "data": {
      "text/plain": [
       "1     2.145807e-09\n5     8.390497e-10\n15    8.123570e-10\n21    2.279853e-10\n24    9.676290e-11\ndtype: float64"
      ]
     },
     "execution_count": 27,
     "metadata": {},
     "output_type": "execute_result"
    }
   ],
   "source": [
    "print(\"union shape {}\".format(res_union[(res_union['raster_val']==1.0) & (res_union['raster_val_2']==1.0)].shape))\n",
    "res_union[(res_union['raster_val']==1.0) & (res_union['raster_val_2']==1.0)].head().area"
   ]
  },
  {
   "cell_type": "code",
   "execution_count": 28,
   "metadata": {},
   "outputs": [
    {
     "name": "stdout",
     "output_type": "stream",
     "text": [
      "intersection shape (23, 5)\n"
     ]
    },
    {
     "data": {
      "text/plain": [
       "0    2.145807e-09\n1    8.390497e-10\n2    8.123570e-10\n3    2.279853e-10\n4    9.676290e-11\ndtype: float64"
      ]
     },
     "execution_count": 28,
     "metadata": {},
     "output_type": "execute_result"
    }
   ],
   "source": [
    "print(\"intersection shape {}\".format(res_intersection[(res_intersection['raster_val']==1.0) & (res_intersection['raster_val_2']==1.0)].shape))\n",
    "res_intersection[(res_intersection['raster_val']==1.0) & (res_intersection['raster_val_2']==1.0)].head().area"
   ]
  },
  {
   "cell_type": "code",
   "execution_count": 29,
   "metadata": {
    "collapsed": true
   },
   "outputs": [
    {
     "data": {
      "text/html": [
       "<div>\n",
       "<table border=\"1\" class=\"dataframe\">\n",
       "  <thead>\n",
       "    <tr style=\"text-align: right;\">\n",
       "      <th></th>\n",
       "      <th>geometry</th>\n",
       "      <th>location</th>\n",
       "      <th>location_2</th>\n",
       "      <th>raster_val</th>\n",
       "      <th>raster_val_2</th>\n",
       "    </tr>\n",
       "  </thead>\n",
       "  <tbody>\n",
       "    <tr>\n",
       "      <th>0</th>\n",
       "      <td>POLYGON ((-115.2633455998505 36.2419426698028,...</td>\n",
       "      <td>15OCT22183656-S2AS_R1C2-056155973080_01_P001.TIF</td>\n",
       "      <td>None</td>\n",
       "      <td>1.0</td>\n",
       "      <td>NaN</td>\n",
       "    </tr>\n",
       "    <tr>\n",
       "      <th>1</th>\n",
       "      <td>POLYGON ((-115.2632862000001 36.24283980000606...</td>\n",
       "      <td>15OCT22183656-S2AS_R1C2-056155973080_01_P001.TIF</td>\n",
       "      <td>15OCT22183656-S2AS_R1C3-056155973080_01_P001.TIF</td>\n",
       "      <td>1.0</td>\n",
       "      <td>1.0</td>\n",
       "    </tr>\n",
       "    <tr>\n",
       "      <th>2</th>\n",
       "      <td>POLYGON ((-115.2632821499251 36.24284502199291...</td>\n",
       "      <td>15OCT22183656-S2AS_R1C2-056155973080_01_P001.TIF</td>\n",
       "      <td>None</td>\n",
       "      <td>1.0</td>\n",
       "      <td>NaN</td>\n",
       "    </tr>\n",
       "    <tr>\n",
       "      <th>3</th>\n",
       "      <td>POLYGON ((-115.2632821499251 36.24284502199291...</td>\n",
       "      <td>None</td>\n",
       "      <td>15OCT22183656-S2AS_R1C3-056155973080_01_P001.TIF</td>\n",
       "      <td>NaN</td>\n",
       "      <td>1.0</td>\n",
       "    </tr>\n",
       "    <tr>\n",
       "      <th>4</th>\n",
       "      <td>POLYGON ((-115.2632800697965 36.243042300006, ...</td>\n",
       "      <td>None</td>\n",
       "      <td>15OCT22183656-S2AS_R1C3-056155973080_01_P001.TIF</td>\n",
       "      <td>NaN</td>\n",
       "      <td>1.0</td>\n",
       "    </tr>\n",
       "  </tbody>\n",
       "</table>\n",
       "</div>"
      ],
      "text/plain": [
       "<div>\n",
       "<table border=\"1\" class=\"dataframe\">\n",
       "  <thead>\n",
       "    <tr style=\"text-align: right;\">\n",
       "      <th></th>\n",
       "      <th>geometry</th>\n",
       "      <th>location</th>\n",
       "      <th>location_2</th>\n",
       "      <th>raster_val</th>\n",
       "      <th>raster_val_2</th>\n",
       "    </tr>\n",
       "  </thead>\n",
       "  <tbody>\n",
       "    <tr>\n",
       "      <th>0</th>\n",
       "      <td>POLYGON ((-115.2633455998505 36.2419426698028,...</td>\n",
       "      <td>15OCT22183656-S2AS_R1C2-056155973080_01_P001.TIF</td>\n",
       "      <td>None</td>\n",
       "      <td>1.0</td>\n",
       "      <td>NaN</td>\n",
       "    </tr>\n",
       "    <tr>\n",
       "      <th>1</th>\n",
       "      <td>POLYGON ((-115.2632862000001 36.24283980000606...</td>\n",
       "      <td>15OCT22183656-S2AS_R1C2-056155973080_01_P001.TIF</td>\n",
       "      <td>15OCT22183656-S2AS_R1C3-056155973080_01_P001.TIF</td>\n",
       "      <td>1.0</td>\n",
       "      <td>1.0</td>\n",
       "    </tr>\n",
       "    <tr>\n",
       "      <th>2</th>\n",
       "      <td>POLYGON ((-115.2632821499251 36.24284502199291...</td>\n",
       "      <td>15OCT22183656-S2AS_R1C2-056155973080_01_P001.TIF</td>\n",
       "      <td>None</td>\n",
       "      <td>1.0</td>\n",
       "      <td>NaN</td>\n",
       "    </tr>\n",
       "    <tr>\n",
       "      <th>3</th>\n",
       "      <td>POLYGON ((-115.2632821499251 36.24284502199291...</td>\n",
       "      <td>None</td>\n",
       "      <td>15OCT22183656-S2AS_R1C3-056155973080_01_P001.TIF</td>\n",
       "      <td>NaN</td>\n",
       "      <td>1.0</td>\n",
       "    </tr>\n",
       "    <tr>\n",
       "      <th>4</th>\n",
       "      <td>POLYGON ((-115.2632800697965 36.243042300006, ...</td>\n",
       "      <td>None</td>\n",
       "      <td>15OCT22183656-S2AS_R1C3-056155973080_01_P001.TIF</td>\n",
       "      <td>NaN</td>\n",
       "      <td>1.0</td>\n",
       "    </tr>\n",
       "  </tbody>\n",
       "</table>\n",
       "</div>"
      ]
     },
     "execution_count": 29,
     "metadata": {},
     "output_type": "execute_result"
    }
   ],
   "source": [
    "res_union.head()"
   ]
  },
  {
   "cell_type": "code",
   "execution_count": 33,
   "metadata": {},
   "outputs": [
    {
     "name": "stdout",
     "output_type": "stream",
     "text": [
      "Using matplotlib backend: MacOSX\n"
     ]
    }
   ],
   "source": [
    "%matplotlib auto"
   ]
  },
  {
   "cell_type": "code",
   "execution_count": 36,
   "metadata": {},
   "outputs": [
    {
     "data": {
      "text/plain": [
       "<matplotlib.axes._subplots.AxesSubplot at 0x11db35f50>"
      ]
     },
     "execution_count": 36,
     "metadata": {},
     "output_type": "execute_result"
    }
   ],
   "source": [
    "res_union[(res_union['raster_val']==1.0) & (res_union['raster_val_2']==1.0)].head().plot()"
   ]
  },
  {
   "cell_type": "code",
   "execution_count": 37,
   "metadata": {},
   "outputs": [
    {
     "data": {
      "text/plain": [
       "<matplotlib.axes._subplots.AxesSubplot at 0x11de3f910>"
      ]
     },
     "execution_count": 37,
     "metadata": {},
     "output_type": "execute_result"
    }
   ],
   "source": [
    "res_union.plot()"
   ]
  },
  {
   "cell_type": "code",
   "execution_count": null,
   "metadata": {},
   "outputs": [],
   "source": [
    ""
   ]
  }
 ],
 "metadata": {
  "kernelspec": {
   "display_name": "Python 2",
   "language": "python",
   "name": "python2"
  },
  "language_info": {
   "codemirror_mode": {
    "name": "ipython",
    "version": 2.0
   },
   "file_extension": ".py",
   "mimetype": "text/x-python",
   "name": "python",
   "nbconvert_exporter": "python",
   "pygments_lexer": "ipython2",
   "version": "2.7.6"
  }
 },
 "nbformat": 4,
 "nbformat_minor": 0
}